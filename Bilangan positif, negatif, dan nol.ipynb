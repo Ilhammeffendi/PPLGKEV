{
  "nbformat": 4,
  "nbformat_minor": 0,
  "metadata": {
    "colab": {
      "provenance": [],
      "authorship_tag": "ABX9TyMOmSLx/xeRJYWFmdHc77RS",
      "include_colab_link": true
    },
    "kernelspec": {
      "name": "python3",
      "display_name": "Python 3"
    },
    "language_info": {
      "name": "python"
    }
  },
  "cells": [
    {
      "cell_type": "markdown",
      "metadata": {
        "id": "view-in-github",
        "colab_type": "text"
      },
      "source": [
        "<a href=\"https://colab.research.google.com/github/Ilhammeffendi/PPLGKEV/blob/main/Bilangan%20positif%2C%20negatif%2C%20dan%20nol.ipynb\" target=\"_parent\"><img src=\"https://colab.research.google.com/assets/colab-badge.svg\" alt=\"Open In Colab\"/></a>"
      ]
    },
    {
      "cell_type": "markdown",
      "source": [
        "# Program Untuk Menentukan Bilangan Positif, Bilangan Negatif dan Nol"
      ],
      "metadata": {
        "id": "8rzzATIZRrO3"
      }
    },
    {
      "cell_type": "code",
      "source": [
        "#Menginput Angka\n",
        "angka = float(input(\"Tulis Sebuah Angka: \"))\n",
        "\n",
        "#Menampilkan Kondisi Angka Positif\n",
        "if angka > 0:\n",
        "  print(\"Bilangan Positif\")\n",
        "\n",
        "#Menampilkan Kondisi Angka Nol\n",
        "elif angka == 0:\n",
        "  print(\"Nol\")\n",
        "\n",
        "#Menampilkan Kondisi Angka Negatif\n",
        "else:\n",
        "  print(\"Bilangan Negatif\")"
      ],
      "metadata": {
        "colab": {
          "base_uri": "https://localhost:8080/"
        },
        "id": "9s04i2_-ObLT",
        "outputId": "d45eab64-4605-4d77-95bc-3b0f68290b2f"
      },
      "execution_count": 18,
      "outputs": [
        {
          "output_type": "stream",
          "name": "stdout",
          "text": [
            "Tulis Sebuah Angka: 0\n",
            "Nol\n"
          ]
        }
      ]
    },
    {
      "cell_type": "markdown",
      "source": [
        "Program diatas untuk menentukan bilangan positif, bilangan negatif dan nol. Untuk kondisi pertama pernyataan akan menjadi 'Bilangan Positif\" jika angka lebih dari (>) 0. Kondisi kedua pernyataan akan menjadi \"Nol\" jika angka sama dengan ( == ) 0. Kondisi terakhir pernyataan akan menjadi \"Bilangan Negatif\" jika angka tidak mencakup 2 kondisi di atas yaitu tidak lebih dari 0 atau angka tidak sama dengan 0.\n",
        "\n"
      ],
      "metadata": {
        "id": "-H7eG34IS0T7"
      }
    }
  ]
}